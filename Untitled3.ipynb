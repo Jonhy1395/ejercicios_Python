{
  "nbformat": 4,
  "nbformat_minor": 0,
  "metadata": {
    "colab": {
      "name": "Untitled3.ipynb",
      "provenance": [],
      "collapsed_sections": [],
      "authorship_tag": "ABX9TyNM7NBhUgO2LqZeug3ku+P3",
      "include_colab_link": true
    },
    "kernelspec": {
      "name": "python3",
      "display_name": "Python 3"
    },
    "language_info": {
      "name": "python"
    }
  },
  "cells": [
    {
      "cell_type": "markdown",
      "metadata": {
        "id": "view-in-github",
        "colab_type": "text"
      },
      "source": [
        "<a href=\"https://colab.research.google.com/github/Jonhy1395/ejercicios_Python/blob/main/Untitled3.ipynb\" target=\"_parent\"><img src=\"https://colab.research.google.com/assets/colab-badge.svg\" alt=\"Open In Colab\"/></a>"
      ]
    },
    {
      "cell_type": "code",
      "execution_count": 1,
      "metadata": {
        "colab": {
          "base_uri": "https://localhost:8080/"
        },
        "id": "FX_rfd2JgYdJ",
        "outputId": "c22c987f-6e84-4200-8db6-303f5faf0c56"
      },
      "outputs": [
        {
          "output_type": "stream",
          "name": "stdout",
          "text": [
            "Ingrese el numero de materias que cursa: 5\n",
            "Cual es su 1 materia matematicas\n",
            "Cual es su 2 materia quimica\n",
            "Cual es su 3 materia fisica\n",
            "Cual es su 4 materia lenguaje\n",
            "Cual es su 5 materia historia\n",
            "Cual es su nota en matematicas 1.2\n",
            "Cual es su nota en quimica 2.8\n",
            "Cual es su nota en fisica 5\n",
            "Cual es su nota en lenguaje 4.5\n",
            "Cual es su nota en historia 2\n",
            "\n",
            "Tus notas son\n",
            "\n",
            "es mayor\n",
            "es mayor\n"
          ]
        }
      ],
      "source": [
        "mat=int(input(\"Ingrese el numero de materias que cursa: \"))\n",
        "materias =[]\n",
        "notas=[]\n",
        "\n",
        "for i in range(mat):\n",
        "    materias.append(input(f\"Cual es su {i+1} materia \"))\n",
        "\n",
        "for text in materias:\n",
        "    notas.append(float(input(f\"Cual es su nota en {text} \")))\n",
        "\n",
        "\n",
        "print(\"\\nTus notas son\\n\")\n",
        "for x in range(len(materias)):\n",
        "    if notas[x]>=3:\n",
        "      print(\"es mayor\")"
      ]
    }
  ]
}