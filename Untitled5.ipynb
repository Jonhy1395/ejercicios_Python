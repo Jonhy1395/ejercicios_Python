{
  "nbformat": 4,
  "nbformat_minor": 0,
  "metadata": {
    "colab": {
      "name": "Untitled5.ipynb",
      "provenance": [],
      "collapsed_sections": [],
      "authorship_tag": "ABX9TyN9rH7STJR8NL1k3MlFv/QE",
      "include_colab_link": true
    },
    "kernelspec": {
      "name": "python3",
      "display_name": "Python 3"
    },
    "language_info": {
      "name": "python"
    }
  },
  "cells": [
    {
      "cell_type": "markdown",
      "metadata": {
        "id": "view-in-github",
        "colab_type": "text"
      },
      "source": [
        "<a href=\"https://colab.research.google.com/github/Jonhy1395/ejercicios_Python/blob/main/Untitled5.ipynb\" target=\"_parent\"><img src=\"https://colab.research.google.com/assets/colab-badge.svg\" alt=\"Open In Colab\"/></a>"
      ]
    },
    {
      "cell_type": "code",
      "source": [
        "dic1={22:\"TFTTP\", 80:\"HTTP\", 53:\"DNS\", 443:\"HTTPS\", \"lo\":95 }\n",
        "dic2={22:\"Telnet\", 8080:\"Httplocal\", 53:\"DNS\", 443:\"HTTPS\", \"lo\":90 }\n",
        "dic3={}\n",
        "\n",
        "for k,v in dic1.items():\n",
        "  for k2,v2 in dic2.items():\n",
        "    if k==k2:\n",
        "      dic3.update(dic1)\n",
        "    else:\n",
        "      dic3.update(dic2)\n",
        "\n",
        "print(dic3)"
      ],
      "metadata": {
        "id": "-UNiyG0DyYP1",
        "colab": {
          "base_uri": "https://localhost:8080/"
        },
        "outputId": "fcf511f9-dd24-4c9c-8ca7-ae0355656478"
      },
      "execution_count": 4,
      "outputs": [
        {
          "output_type": "stream",
          "name": "stdout",
          "text": [
            "{22: 'TFTTP', 80: 'HTTP', 53: 'DNS', 443: 'HTTPS', 'lo': 95, 8080: 'Httplocal'}\n"
          ]
        }
      ]
    },
    {
      "cell_type": "code",
      "source": [
        "\n",
        "seleccion=1\n",
        "lista_k=[]\n",
        "lista_v=[]\n",
        "lista_k2=[]\n",
        "lista_v2=[]\n",
        "while seleccion!=0:\n",
        "  lista_k.append(input(\"ingrese la llave dic 1\"))\n",
        "  lista_v.append(input(\"ingrese el valor del dic 1\"))\n",
        "  lista_k2.append(input(\"ingrese la llave dic 2\"))\n",
        "  lista_v2.append(input(\"ingrese el valor del dic 2\"))\n",
        "\n",
        "\n",
        "  # diccionario1={input(\"Ingrese la llave:\"):input(\"ingrese el valor\")}\n",
        "  # diccionario1.update(diccionario1)\n",
        "  # diccionario2={input(\"Ingrese la llave del diccionario 2:\"):input(\"ingrese el valor del diccionario 2\")}\n",
        "  # diccionario2.update(diccionario2)\n",
        "  seleccion=int(input(\"oprima 1 para CONTINUAR oprima 0 para salir: \"))\n",
        "\n",
        "diccionario1=dict(zip(lista_k,lista_v))\n",
        "diccionario2=dict(zip(lista_k2,lista_v2))\n",
        "\n",
        "diccionario3={}\n",
        "for k in diccionario1.keys():\n",
        "  for k2 in diccionario2.keys():\n",
        "    if k==k2:\n",
        "      diccionario3.update(diccionario1)\n",
        "    else:\n",
        "      diccionario3.update(diccionario2)\n",
        "\n",
        "# print(lista_k)\n",
        "# print(lista_v)\n",
        "# print(lista_k2)\n",
        "# print(lista_v2)\n",
        "print(diccionario1)\n",
        "print(diccionario2)\n",
        "print(diccionario3)"
      ],
      "metadata": {
        "colab": {
          "base_uri": "https://localhost:8080/"
        },
        "id": "rMcK8nmU3cxY",
        "outputId": "88a9c9ea-e5c9-4e9e-82c1-d454c1a2d7fa"
      },
      "execution_count": 12,
      "outputs": [
        {
          "output_type": "stream",
          "name": "stdout",
          "text": [
            "ingrese la llave dic 122\n",
            "ingrese el valor del dic 1tfttp\n",
            "ingrese la llave dic 222\n",
            "ingrese el valor del dic 2telnet\n",
            "oprima 1 para CONTINUAR oprima 0 para salir: 1\n",
            "ingrese la llave dic 180\n",
            "ingrese el valor del dic 1http\n",
            "ingrese la llave dic 28080\n",
            "ingrese el valor del dic 2httplocal\n",
            "oprima 1 para CONTINUAR oprima 0 para salir: 1\n",
            "ingrese la llave dic 1lo\n",
            "ingrese el valor del dic 195\n",
            "ingrese la llave dic 2lo\n",
            "ingrese el valor del dic 290\n",
            "oprima 1 para CONTINUAR oprima 0 para salir: 0\n",
            "{'22': 'tfttp', '80': 'http', 'lo': '95'}\n",
            "{'22': 'telnet', '8080': 'httplocal', 'lo': '90'}\n",
            "{'22': 'tfttp', '80': 'http', 'lo': '95', '8080': 'httplocal'}\n"
          ]
        }
      ]
    }
  ]
}